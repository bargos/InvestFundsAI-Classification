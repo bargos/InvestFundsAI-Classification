{
 "cells": [
  {
   "cell_type": "code",
   "execution_count": 20,
   "metadata": {},
   "outputs": [
    {
     "name": "stdout",
     "output_type": "stream",
     "text": [
      "/media/eel/DATAUbuntu/Projetos/Pub2023-2024/PortModels\n"
     ]
    }
   ],
   "source": [
    "%cd /media/eel/DATAUbuntu/Projetos/Pub2023-2024/PortModels/"
   ]
  },
  {
   "cell_type": "code",
   "execution_count": 21,
   "metadata": {},
   "outputs": [],
   "source": [
    "import pandas as pd\n",
    "from functions import *\n",
    "import ipywidgets as widgets\n",
    "from ipywidgets import interact, fixed, interact_manual\n",
    "# Evaluating the model\n",
    "from sklearn.metrics import mean_squared_error, r2_score\n",
    "from pycaret.regression import *\n"
   ]
  },
  {
   "cell_type": "code",
   "execution_count": 22,
   "metadata": {},
   "outputs": [],
   "source": [
    "data0 = load_mais_retorno_data(0)\n",
    "\n",
    "features = ['Rentabilidade 1M','Beta No mês', 'Beta 3 meses', 'Beta 6 meses',\n",
    "        'Beta 12 meses', 'Beta 24 meses',   \n",
    "        ]\n",
    "\n",
    "data = data0\n",
    "\n",
    "# data['Rentabilidade 1M'] = np.log( data['Rentabilidade 1M'] )\n",
    "# data['Rentabilidade No mês'] = np.log( data['Rentabilidade No mês'])\n",
    "# data['Rentabilidade 3 meses'] = np.log( data['Rentabilidade 3 meses'])\n",
    "# data['Rentabilidade 6 meses'] = np.log( data['Rentabilidade 6 meses'])\n",
    "# data['Rentabilidade 12 meses'] = np.log( data['Rentabilidade 12 meses'])\n",
    "# data['Rentabilidade 24 meses'] = np.log( data['Rentabilidade 24 meses'])\n",
    "# data.dropna(inplace=True)"
   ]
  },
  {
   "cell_type": "code",
   "execution_count": 23,
   "metadata": {},
   "outputs": [
    {
     "data": {
      "text/html": [
       "<style type=\"text/css\">\n",
       "#T_f463f_row8_col1, #T_f463f_row12_col1 {\n",
       "  background-color: lightgreen;\n",
       "}\n",
       "</style>\n",
       "<table id=\"T_f463f\">\n",
       "  <thead>\n",
       "    <tr>\n",
       "      <th class=\"blank level0\" >&nbsp;</th>\n",
       "      <th id=\"T_f463f_level0_col0\" class=\"col_heading level0 col0\" >Description</th>\n",
       "      <th id=\"T_f463f_level0_col1\" class=\"col_heading level0 col1\" >Value</th>\n",
       "    </tr>\n",
       "  </thead>\n",
       "  <tbody>\n",
       "    <tr>\n",
       "      <th id=\"T_f463f_level0_row0\" class=\"row_heading level0 row0\" >0</th>\n",
       "      <td id=\"T_f463f_row0_col0\" class=\"data row0 col0\" >Session id</td>\n",
       "      <td id=\"T_f463f_row0_col1\" class=\"data row0 col1\" >123</td>\n",
       "    </tr>\n",
       "    <tr>\n",
       "      <th id=\"T_f463f_level0_row1\" class=\"row_heading level0 row1\" >1</th>\n",
       "      <td id=\"T_f463f_row1_col0\" class=\"data row1 col0\" >Target</td>\n",
       "      <td id=\"T_f463f_row1_col1\" class=\"data row1 col1\" >Rentabilidade 1M</td>\n",
       "    </tr>\n",
       "    <tr>\n",
       "      <th id=\"T_f463f_level0_row2\" class=\"row_heading level0 row2\" >2</th>\n",
       "      <td id=\"T_f463f_row2_col0\" class=\"data row2 col0\" >Target type</td>\n",
       "      <td id=\"T_f463f_row2_col1\" class=\"data row2 col1\" >Regression</td>\n",
       "    </tr>\n",
       "    <tr>\n",
       "      <th id=\"T_f463f_level0_row3\" class=\"row_heading level0 row3\" >3</th>\n",
       "      <td id=\"T_f463f_row3_col0\" class=\"data row3 col0\" >Original data shape</td>\n",
       "      <td id=\"T_f463f_row3_col1\" class=\"data row3 col1\" >(91390, 41)</td>\n",
       "    </tr>\n",
       "    <tr>\n",
       "      <th id=\"T_f463f_level0_row4\" class=\"row_heading level0 row4\" >4</th>\n",
       "      <td id=\"T_f463f_row4_col0\" class=\"data row4 col0\" >Transformed data shape</td>\n",
       "      <td id=\"T_f463f_row4_col1\" class=\"data row4 col1\" >(91390, 41)</td>\n",
       "    </tr>\n",
       "    <tr>\n",
       "      <th id=\"T_f463f_level0_row5\" class=\"row_heading level0 row5\" >5</th>\n",
       "      <td id=\"T_f463f_row5_col0\" class=\"data row5 col0\" >Transformed train set shape</td>\n",
       "      <td id=\"T_f463f_row5_col1\" class=\"data row5 col1\" >(63972, 41)</td>\n",
       "    </tr>\n",
       "    <tr>\n",
       "      <th id=\"T_f463f_level0_row6\" class=\"row_heading level0 row6\" >6</th>\n",
       "      <td id=\"T_f463f_row6_col0\" class=\"data row6 col0\" >Transformed test set shape</td>\n",
       "      <td id=\"T_f463f_row6_col1\" class=\"data row6 col1\" >(27418, 41)</td>\n",
       "    </tr>\n",
       "    <tr>\n",
       "      <th id=\"T_f463f_level0_row7\" class=\"row_heading level0 row7\" >7</th>\n",
       "      <td id=\"T_f463f_row7_col0\" class=\"data row7 col0\" >Numeric features</td>\n",
       "      <td id=\"T_f463f_row7_col1\" class=\"data row7 col1\" >40</td>\n",
       "    </tr>\n",
       "    <tr>\n",
       "      <th id=\"T_f463f_level0_row8\" class=\"row_heading level0 row8\" >8</th>\n",
       "      <td id=\"T_f463f_row8_col0\" class=\"data row8 col0\" >Preprocess</td>\n",
       "      <td id=\"T_f463f_row8_col1\" class=\"data row8 col1\" >True</td>\n",
       "    </tr>\n",
       "    <tr>\n",
       "      <th id=\"T_f463f_level0_row9\" class=\"row_heading level0 row9\" >9</th>\n",
       "      <td id=\"T_f463f_row9_col0\" class=\"data row9 col0\" >Imputation type</td>\n",
       "      <td id=\"T_f463f_row9_col1\" class=\"data row9 col1\" >simple</td>\n",
       "    </tr>\n",
       "    <tr>\n",
       "      <th id=\"T_f463f_level0_row10\" class=\"row_heading level0 row10\" >10</th>\n",
       "      <td id=\"T_f463f_row10_col0\" class=\"data row10 col0\" >Numeric imputation</td>\n",
       "      <td id=\"T_f463f_row10_col1\" class=\"data row10 col1\" >mean</td>\n",
       "    </tr>\n",
       "    <tr>\n",
       "      <th id=\"T_f463f_level0_row11\" class=\"row_heading level0 row11\" >11</th>\n",
       "      <td id=\"T_f463f_row11_col0\" class=\"data row11 col0\" >Categorical imputation</td>\n",
       "      <td id=\"T_f463f_row11_col1\" class=\"data row11 col1\" >mode</td>\n",
       "    </tr>\n",
       "    <tr>\n",
       "      <th id=\"T_f463f_level0_row12\" class=\"row_heading level0 row12\" >12</th>\n",
       "      <td id=\"T_f463f_row12_col0\" class=\"data row12 col0\" >Transformation</td>\n",
       "      <td id=\"T_f463f_row12_col1\" class=\"data row12 col1\" >True</td>\n",
       "    </tr>\n",
       "    <tr>\n",
       "      <th id=\"T_f463f_level0_row13\" class=\"row_heading level0 row13\" >13</th>\n",
       "      <td id=\"T_f463f_row13_col0\" class=\"data row13 col0\" >Transformation method</td>\n",
       "      <td id=\"T_f463f_row13_col1\" class=\"data row13 col1\" >quantile</td>\n",
       "    </tr>\n",
       "    <tr>\n",
       "      <th id=\"T_f463f_level0_row14\" class=\"row_heading level0 row14\" >14</th>\n",
       "      <td id=\"T_f463f_row14_col0\" class=\"data row14 col0\" >Fold Generator</td>\n",
       "      <td id=\"T_f463f_row14_col1\" class=\"data row14 col1\" >KFold</td>\n",
       "    </tr>\n",
       "    <tr>\n",
       "      <th id=\"T_f463f_level0_row15\" class=\"row_heading level0 row15\" >15</th>\n",
       "      <td id=\"T_f463f_row15_col0\" class=\"data row15 col0\" >Fold Number</td>\n",
       "      <td id=\"T_f463f_row15_col1\" class=\"data row15 col1\" >10</td>\n",
       "    </tr>\n",
       "    <tr>\n",
       "      <th id=\"T_f463f_level0_row16\" class=\"row_heading level0 row16\" >16</th>\n",
       "      <td id=\"T_f463f_row16_col0\" class=\"data row16 col0\" >CPU Jobs</td>\n",
       "      <td id=\"T_f463f_row16_col1\" class=\"data row16 col1\" >-1</td>\n",
       "    </tr>\n",
       "    <tr>\n",
       "      <th id=\"T_f463f_level0_row17\" class=\"row_heading level0 row17\" >17</th>\n",
       "      <td id=\"T_f463f_row17_col0\" class=\"data row17 col0\" >Use GPU</td>\n",
       "      <td id=\"T_f463f_row17_col1\" class=\"data row17 col1\" >False</td>\n",
       "    </tr>\n",
       "    <tr>\n",
       "      <th id=\"T_f463f_level0_row18\" class=\"row_heading level0 row18\" >18</th>\n",
       "      <td id=\"T_f463f_row18_col0\" class=\"data row18 col0\" >Log Experiment</td>\n",
       "      <td id=\"T_f463f_row18_col1\" class=\"data row18 col1\" >False</td>\n",
       "    </tr>\n",
       "    <tr>\n",
       "      <th id=\"T_f463f_level0_row19\" class=\"row_heading level0 row19\" >19</th>\n",
       "      <td id=\"T_f463f_row19_col0\" class=\"data row19 col0\" >Experiment Name</td>\n",
       "      <td id=\"T_f463f_row19_col1\" class=\"data row19 col1\" >reg-default-name</td>\n",
       "    </tr>\n",
       "    <tr>\n",
       "      <th id=\"T_f463f_level0_row20\" class=\"row_heading level0 row20\" >20</th>\n",
       "      <td id=\"T_f463f_row20_col0\" class=\"data row20 col0\" >USI</td>\n",
       "      <td id=\"T_f463f_row20_col1\" class=\"data row20 col1\" >b71e</td>\n",
       "    </tr>\n",
       "  </tbody>\n",
       "</table>\n"
      ],
      "text/plain": [
       "<pandas.io.formats.style.Styler at 0x7c6f8aba6080>"
      ]
     },
     "metadata": {},
     "output_type": "display_data"
    }
   ],
   "source": [
    "s = setup(data, target = 'Rentabilidade 1M', session_id=123, transformation = True, transformation_method='quantile')"
   ]
  },
  {
   "cell_type": "code",
   "execution_count": 24,
   "metadata": {},
   "outputs": [],
   "source": [
    "#s.get_config('X_train').hist()"
   ]
  },
  {
   "cell_type": "code",
   "execution_count": 25,
   "metadata": {},
   "outputs": [],
   "source": [
    "#s.get_config('X_train_transformed').hist()"
   ]
  },
  {
   "cell_type": "code",
   "execution_count": 26,
   "metadata": {},
   "outputs": [
    {
     "data": {
      "text/html": [],
      "text/plain": [
       "<IPython.core.display.HTML object>"
      ]
     },
     "metadata": {},
     "output_type": "display_data"
    },
    {
     "data": {
      "text/html": [
       "<style type=\"text/css\">\n",
       "#T_52810 th {\n",
       "  text-align: left;\n",
       "}\n",
       "#T_52810_row0_col0 {\n",
       "  text-align: left;\n",
       "}\n",
       "#T_52810_row0_col1, #T_52810_row0_col2, #T_52810_row0_col3, #T_52810_row0_col4, #T_52810_row0_col5, #T_52810_row0_col6 {\n",
       "  text-align: left;\n",
       "  background-color: yellow;\n",
       "}\n",
       "#T_52810_row0_col7 {\n",
       "  text-align: left;\n",
       "  background-color: yellow;\n",
       "  background-color: lightgrey;\n",
       "}\n",
       "</style>\n",
       "<table id=\"T_52810\">\n",
       "  <thead>\n",
       "    <tr>\n",
       "      <th class=\"blank level0\" >&nbsp;</th>\n",
       "      <th id=\"T_52810_level0_col0\" class=\"col_heading level0 col0\" >Model</th>\n",
       "      <th id=\"T_52810_level0_col1\" class=\"col_heading level0 col1\" >MAE</th>\n",
       "      <th id=\"T_52810_level0_col2\" class=\"col_heading level0 col2\" >MSE</th>\n",
       "      <th id=\"T_52810_level0_col3\" class=\"col_heading level0 col3\" >RMSE</th>\n",
       "      <th id=\"T_52810_level0_col4\" class=\"col_heading level0 col4\" >R2</th>\n",
       "      <th id=\"T_52810_level0_col5\" class=\"col_heading level0 col5\" >RMSLE</th>\n",
       "      <th id=\"T_52810_level0_col6\" class=\"col_heading level0 col6\" >MAPE</th>\n",
       "      <th id=\"T_52810_level0_col7\" class=\"col_heading level0 col7\" >TT (Sec)</th>\n",
       "    </tr>\n",
       "  </thead>\n",
       "  <tbody>\n",
       "    <tr>\n",
       "      <th id=\"T_52810_level0_row0\" class=\"row_heading level0 row0\" >knn</th>\n",
       "      <td id=\"T_52810_row0_col0\" class=\"data row0 col0\" >K Neighbors Regressor</td>\n",
       "      <td id=\"T_52810_row0_col1\" class=\"data row0 col1\" >0.0006</td>\n",
       "      <td id=\"T_52810_row0_col2\" class=\"data row0 col2\" >0.0000</td>\n",
       "      <td id=\"T_52810_row0_col3\" class=\"data row0 col3\" >0.0015</td>\n",
       "      <td id=\"T_52810_row0_col4\" class=\"data row0 col4\" >0.9966</td>\n",
       "      <td id=\"T_52810_row0_col5\" class=\"data row0 col5\" >0.0015</td>\n",
       "      <td id=\"T_52810_row0_col6\" class=\"data row0 col6\" >0.1474</td>\n",
       "      <td id=\"T_52810_row0_col7\" class=\"data row0 col7\" >0.5720</td>\n",
       "    </tr>\n",
       "  </tbody>\n",
       "</table>\n"
      ],
      "text/plain": [
       "<pandas.io.formats.style.Styler at 0x7c6fcd9290c0>"
      ]
     },
     "metadata": {},
     "output_type": "display_data"
    },
    {
     "data": {
      "text/html": [],
      "text/plain": [
       "<IPython.core.display.HTML object>"
      ]
     },
     "metadata": {},
     "output_type": "display_data"
    }
   ],
   "source": [
    "best = compare_models(include=['knn'])"
   ]
  },
  {
   "cell_type": "code",
   "execution_count": 27,
   "metadata": {},
   "outputs": [],
   "source": [
    "#interpret_model(best, plot = 'summary')\n",
    "#tuned_best = tune_model(best, optimize='RMSE')\n",
    "tuned_best = best"
   ]
  },
  {
   "cell_type": "code",
   "execution_count": 28,
   "metadata": {},
   "outputs": [],
   "source": [
    "def plot_graphs(estimator, plot):\n",
    "  plot_model(estimator, plot=plot)"
   ]
  },
  {
   "cell_type": "code",
   "execution_count": 29,
   "metadata": {},
   "outputs": [
    {
     "data": {
      "application/vnd.jupyter.widget-view+json": {
       "model_id": "ba7d6ae8a30a4ff3a805dce30778268f",
       "version_major": 2,
       "version_minor": 0
      },
      "text/plain": [
       "interactive(children=(Dropdown(description='plot', options=(('Pipeline', 'pipeline'), ('HiperParameters', 'par…"
      ]
     },
     "metadata": {},
     "output_type": "display_data"
    },
    {
     "data": {
      "text/plain": [
       "<function __main__.plot_graphs(estimator, plot)>"
      ]
     },
     "execution_count": 29,
     "metadata": {},
     "output_type": "execute_result"
    }
   ],
   "source": [
    "## Decidi não usar o método evaluate_model, pois existem alguns gráficos que demoram vários minutos para serem gereados e também há gráficos que não são\n",
    "## suportados pelo modelo mais eficiente. Então juntei aqui os gráficos mais simples e fiz separado os que demandam mais tempo de geração.\n",
    "options = ['pipeline',  'parameter',  'feature', 'error', 'manifold',   'vc' , 'residuals' , 'cooks'] #, 'tree'# criar visualização iframe]\n",
    "labels = [\"Pipeline\",\"HiperParameters\",\"Feature Importance\", \"Prediction Error\",\"Manifold Learning\",\"Validation Curve\" ,\n",
    "          \"Residuals Plot\" , \"Cooks Distance Plot\" #,\"Decision Tree\"\n",
    "          ]\n",
    "tb = widgets.ToggleButtons(\n",
    "\n",
    "            description=\"Tipo de gráfico:\",\n",
    ")\n",
    "\n",
    "interact(\n",
    "            plot_graphs,\n",
    "            estimator=fixed(tuned_best),\n",
    "            plot = [ (l,o) for l,o in zip(labels, options) ],\n",
    ")   "
   ]
  },
  {
   "cell_type": "code",
   "execution_count": 31,
   "metadata": {},
   "outputs": [],
   "source": [
    "# predict_model(tuned_best)"
   ]
  },
  {
   "cell_type": "code",
   "execution_count": 32,
   "metadata": {},
   "outputs": [
    {
     "name": "stdout",
     "output_type": "stream",
     "text": [
      "Pipeline(memory=Memory(location=None),\n",
      "         steps=[('numerical_imputer',\n",
      "                 TransformerWrapper(include=['Rentabilidade No mês',\n",
      "                                             'Rentabilidade 3 meses',\n",
      "                                             'Rentabilidade 6 meses',\n",
      "                                             'Rentabilidade 12 meses',\n",
      "                                             'Rentabilidade 24 meses',\n",
      "                                             'Volatilidade No mês',\n",
      "                                             'Volatilidade 3 meses',\n",
      "                                             'Volatilidade 6 meses',\n",
      "                                             'Volatilidade 12 meses',\n",
      "                                             'Volatilidade 24 meses',\n",
      "                                             'Beta No mês', 'Beta 3 meses',\n",
      "                                             'Beta 6 meses', '...\n",
      "                ('categorical_imputer',\n",
      "                 TransformerWrapper(include=[],\n",
      "                                    transformer=SimpleImputer(strategy='most_frequent'))),\n",
      "                ('transformation',\n",
      "                 TransformerWrapper(transformer=QuantileTransformer(output_distribution='normal',\n",
      "                                                                    random_state=123))),\n",
      "                ('clean_column_names',\n",
      "                 TransformerWrapper(transformer=CleanColumnNames())),\n",
      "                ('actual_estimator', KNeighborsRegressor(n_jobs=-1))])\n"
     ]
    }
   ],
   "source": [
    "final_model = finalize_model(tuned_best)\n",
    "print(final_model)"
   ]
  },
  {
   "cell_type": "markdown",
   "metadata": {},
   "source": [
    "# Teste"
   ]
  },
  {
   "cell_type": "code",
   "execution_count": null,
   "metadata": {},
   "outputs": [],
   "source": [
    "# data_teste0 = load_mais_retorno_data_test(1)\n",
    "\n",
    "# data_teste = data_teste0\n",
    "\n",
    "\n",
    "# # data_teste['Rentabilidade 1M'] = np.log( data_teste['Rentabilidade 1M'] )\n",
    "# # data_teste['Rentabilidade No mês'] = np.log( data_teste['Rentabilidade No mês'])\n",
    "# # data_teste['Rentabilidade 3 meses'] = np.log( data_teste['Rentabilidade 3 meses'])\n",
    "# # data_teste['Rentabilidade 6 meses'] = np.log( data_teste['Rentabilidade 6 meses'])\n",
    "# # data_teste['Rentabilidade 12 meses'] = np.log( data_teste['Rentabilidade 12 meses'])\n",
    "# # data_teste['Rentabilidade 24 meses'] = np.log( data_teste['Rentabilidade 24 meses'])\n",
    "# # data_teste.dropna(inplace=True)\n",
    "\n",
    "# # previsão em dados não vistos\n",
    "# unseen_predictions = predict_model(final_model, data=data_teste)\n",
    "# #unseen_predictions.head()\n",
    "\n",
    "# # df_final = unseen_predictions.copy()\n",
    "# # df_final['diferença'] = abs( df_final['prediction_label'] - df_final['Rentabilidade 1M'] )\n",
    "# # (df_final.corr().iloc[-1]).sort_values(ascending=True)\n",
    "\n",
    "\n",
    "# # Evaluating the model\n",
    "# mse = mean_squared_error(unseen_predictions['Rentabilidade 1M'], unseen_predictions['prediction_label'])\n",
    "# print(f'Mean Squared Error: {mse}')\n",
    " \n",
    "# r2 = r2_score(unseen_predictions['Rentabilidade 1M'], unseen_predictions['prediction_label'])\n",
    "# print(f'R-squared: {r2}')\n"
   ]
  },
  {
   "cell_type": "code",
   "execution_count": null,
   "metadata": {},
   "outputs": [],
   "source": [
    "# data_teste0 = load_mais_retorno_data_test(2)\n",
    "# data_teste = data_teste0\n",
    "# # data_teste['Rentabilidade 1M'] = np.log( data_teste['Rentabilidade 1M'] )\n",
    "# # data_teste['Rentabilidade No mês'] = np.log( data_teste['Rentabilidade No mês'])\n",
    "# # data_teste['Rentabilidade 3 meses'] = np.log( data_teste['Rentabilidade 3 meses'])\n",
    "# # data_teste['Rentabilidade 6 meses'] = np.log( data_teste['Rentabilidade 6 meses'])\n",
    "# # data_teste['Rentabilidade 12 meses'] = np.log( data_teste['Rentabilidade 12 meses'])\n",
    "# # data_teste['Rentabilidade 24 meses'] = np.log( data_teste['Rentabilidade 24 meses'])\n",
    "# # data_teste.dropna(inplace=True)\n",
    "\n",
    "# # previsão em dados não vistos\n",
    "# unseen_predictions = predict_model(final_model, data=data_teste)\n",
    "# #unseen_predictions.head()\n",
    "\n",
    "# # df_final = unseen_predictions.copy()\n",
    "# # df_final['diferença'] = abs( df_final['prediction_label'] - df_final['Rentabilidade 1M'] )\n",
    "# # (df_final.corr().iloc[-1]).sort_values(ascending=True)\n",
    "# # Evaluating the model\n",
    "# mse = mean_squared_error(unseen_predictions['Rentabilidade 1M'], unseen_predictions['prediction_label'])\n",
    "# print(f'Mean Squared Error: {mse}')\n",
    " \n",
    "# r2 = r2_score(unseen_predictions['Rentabilidade 1M'], unseen_predictions['prediction_label'])\n",
    "# print(f'R-squared: {r2}')\n"
   ]
  },
  {
   "cell_type": "code",
   "execution_count": 33,
   "metadata": {},
   "outputs": [
    {
     "data": {
      "text/html": [
       "<style type=\"text/css\">\n",
       "</style>\n",
       "<table id=\"T_43161\">\n",
       "  <thead>\n",
       "    <tr>\n",
       "      <th class=\"blank level0\" >&nbsp;</th>\n",
       "      <th id=\"T_43161_level0_col0\" class=\"col_heading level0 col0\" >Model</th>\n",
       "      <th id=\"T_43161_level0_col1\" class=\"col_heading level0 col1\" >MAE</th>\n",
       "      <th id=\"T_43161_level0_col2\" class=\"col_heading level0 col2\" >MSE</th>\n",
       "      <th id=\"T_43161_level0_col3\" class=\"col_heading level0 col3\" >RMSE</th>\n",
       "      <th id=\"T_43161_level0_col4\" class=\"col_heading level0 col4\" >R2</th>\n",
       "      <th id=\"T_43161_level0_col5\" class=\"col_heading level0 col5\" >RMSLE</th>\n",
       "      <th id=\"T_43161_level0_col6\" class=\"col_heading level0 col6\" >MAPE</th>\n",
       "    </tr>\n",
       "  </thead>\n",
       "  <tbody>\n",
       "    <tr>\n",
       "      <th id=\"T_43161_level0_row0\" class=\"row_heading level0 row0\" >0</th>\n",
       "      <td id=\"T_43161_row0_col0\" class=\"data row0 col0\" >K Neighbors Regressor</td>\n",
       "      <td id=\"T_43161_row0_col1\" class=\"data row0 col1\" >0.0317</td>\n",
       "      <td id=\"T_43161_row0_col2\" class=\"data row0 col2\" >0.0015</td>\n",
       "      <td id=\"T_43161_row0_col3\" class=\"data row0 col3\" >0.0391</td>\n",
       "      <td id=\"T_43161_row0_col4\" class=\"data row0 col4\" >0.4161</td>\n",
       "      <td id=\"T_43161_row0_col5\" class=\"data row0 col5\" >0.0299</td>\n",
       "      <td id=\"T_43161_row0_col6\" class=\"data row0 col6\" >6.1511</td>\n",
       "    </tr>\n",
       "  </tbody>\n",
       "</table>\n"
      ],
      "text/plain": [
       "<pandas.io.formats.style.Styler at 0x7c6f8a4a23e0>"
      ]
     },
     "metadata": {},
     "output_type": "display_data"
    },
    {
     "name": "stdout",
     "output_type": "stream",
     "text": [
      "Mean Squared Error: 0.0015249225543811917\n",
      "R-squared: 0.4160675341254382\n"
     ]
    }
   ],
   "source": [
    "data_teste0 = load_mais_retorno_data_test(3)\n",
    "\n",
    "data_teste = data_teste0\n",
    "\n",
    "# data_teste['Rentabilidade 1M'] = np.log( data_teste['Rentabilidade 1M'] )\n",
    "# data_teste['Rentabilidade No mês'] = np.log( data_teste['Rentabilidade No mês'])\n",
    "# data_teste['Rentabilidade 3 meses'] = np.log( data_teste['Rentabilidade 3 meses'])\n",
    "# data_teste['Rentabilidade 6 meses'] = np.log( data_teste['Rentabilidade 6 meses'])\n",
    "# data_teste['Rentabilidade 12 meses'] = np.log( data_teste['Rentabilidade 12 meses'])\n",
    "# data_teste['Rentabilidade 24 meses'] = np.log( data_teste['Rentabilidade 24 meses'])\n",
    "# data_teste.dropna(inplace=True)\n",
    "\n",
    "# previsão em dados não vistos\n",
    "unseen_predictions = predict_model(final_model, data=data_teste)\n",
    "#unseen_predictions.head()\n",
    "\n",
    "# df_final = unseen_predictions.copy()\n",
    "# df_final['diferença'] = abs( df_final['prediction_label'] - df_final['Rentabilidade 1M'] )\n",
    "# (df_final.corr().iloc[-1]).sort_values(ascending=True)\n",
    "# Evaluating the model\n",
    "mse = mean_squared_error(unseen_predictions['Rentabilidade 1M'], unseen_predictions['prediction_label'])\n",
    "print(f'Mean Squared Error: {mse}')\n",
    " \n",
    "r2 = r2_score(unseen_predictions['Rentabilidade 1M'], unseen_predictions['prediction_label'])\n",
    "print(f'R-squared: {r2}')"
   ]
  },
  {
   "cell_type": "code",
   "execution_count": null,
   "metadata": {},
   "outputs": [],
   "source": [
    "# #df_final.sort_values(by='diferença', ascending=False)['diferença'].plot(figsize=(20,5))\n",
    "# # np.exp( df_final.sort_values(by='diferença', ascending=False)[['1RM', 'Predictions']].iloc[0000:1000000] ).plot(figsize=(20,5))\n",
    "# ( unseen_predictions.sort_values(by='diferença', ascending=True)[['Rentabilidade 1M', 'prediction_label']].iloc[0000:100000000] ).plot(figsize=(20,5))\n",
    "# #( df_final[['Rentabilidade 1M', 'prediction_label']].iloc[0000:1000] ).plot(figsize=(20,5))"
   ]
  },
  {
   "cell_type": "code",
   "execution_count": null,
   "metadata": {},
   "outputs": [],
   "source": [
    "# Evaluating the model\n",
    "from sklearn.metrics import mean_squared_error, r2_score\n",
    "\n",
    "# Evaluating the model\n",
    "mse = mean_squared_error(unseen_predictions['Rentabilidade 1M'], unseen_predictions['prediction_label'])\n",
    "print(f'Mean Squared Error: {mse}')\n",
    " \n",
    "r2 = r2_score(unseen_predictions['Rentabilidade 1M'], unseen_predictions['prediction_label'])\n",
    "print(f'R-squared: {r2}')"
   ]
  },
  {
   "cell_type": "code",
   "execution_count": null,
   "metadata": {},
   "outputs": [],
   "source": [
    "data_teste.sort_values(by='diferença', ascending=False).plot.scatter(x='diferença', y='Rentabilidade 3 meses',figsize=(20,5))"
   ]
  },
  {
   "cell_type": "code",
   "execution_count": null,
   "metadata": {},
   "outputs": [],
   "source": [
    "data_teste.plot.scatter(x='diferença', y='Rentabilidade 3 meses',figsize=(20,5))"
   ]
  },
  {
   "cell_type": "code",
   "execution_count": null,
   "metadata": {},
   "outputs": [],
   "source": [
    "data_teste[ data_teste['Rentabilidade 3 meses'] < data_teste['Rentabilidade 3 meses'].mean()].plot.scatter(x='diferença', y='Rentabilidade 3 meses',figsize=(20,5))"
   ]
  },
  {
   "cell_type": "code",
   "execution_count": null,
   "metadata": {},
   "outputs": [],
   "source": [
    "data_teste[ data_teste['Rentabilidade 3 meses'] < data_teste['Rentabilidade 3 meses'].mean()*1.1].plot.scatter(x='diferença', y='Rentabilidade 3 meses',figsize=(20,5))"
   ]
  },
  {
   "cell_type": "code",
   "execution_count": null,
   "metadata": {},
   "outputs": [],
   "source": [
    "(data_teste[ data_teste['Rentabilidade 3 meses'] > data_teste['Rentabilidade 3 meses'].mean()*1.2].corr()).iloc[-1].sort_values(ascending=False)"
   ]
  },
  {
   "cell_type": "code",
   "execution_count": null,
   "metadata": {},
   "outputs": [],
   "source": [
    "(data_teste[ data_teste['Rentabilidade 3 meses'] > data_teste['Rentabilidade 3 meses'].mean()*1.2].corr()).iloc[-1].sort_values(ascending=False)"
   ]
  },
  {
   "cell_type": "markdown",
   "metadata": {},
   "source": [
    "fit_kwargs: dict, default = {} (empty dict)\n",
    "\n",
    "    Dictionary of arguments passed to the fit method of the model.\n",
    "\n",
    "\n",
    "COM 10 - 10 ESTIMADORES\n",
    "Out-of-Bag Score: 0.9831656322972088\n",
    "Mean Squared Error: 0.00018268003513004195\n",
    "R-squared: 0.9300470732379512\n",
    "\n",
    "Out-of-Bag Score: 0.9831656322972088\n",
    "Mean Squared Error: 0.000498829771739828\n",
    "R-squared: 0.7367563869963178\n",
    "\n",
    "\n",
    "COM TODAS 16 - 10 ESTIMADORES\n",
    "Out-of-Bag Score: 0.9831663369773853\n",
    "Mean Squared Error: 0.00018010799230706542\n",
    "R-squared: 0.9310319751901347\n",
    "\n",
    "\n",
    "\n",
    "COM 10 E 300 ESTIMADORES\n",
    "Out-of-Bag Score: 0.9999995114670749\n",
    "Mean Squared Error: 0.0004956513531350412\n",
    "R-squared: 0.7384337094910116\n"
   ]
  }
 ],
 "metadata": {
  "kernelspec": {
   "display_name": "venv",
   "language": "python",
   "name": "python3"
  },
  "language_info": {
   "codemirror_mode": {
    "name": "ipython",
    "version": 3
   },
   "file_extension": ".py",
   "mimetype": "text/x-python",
   "name": "python",
   "nbconvert_exporter": "python",
   "pygments_lexer": "ipython3",
   "version": "3.10.12"
  }
 },
 "nbformat": 4,
 "nbformat_minor": 2
}
